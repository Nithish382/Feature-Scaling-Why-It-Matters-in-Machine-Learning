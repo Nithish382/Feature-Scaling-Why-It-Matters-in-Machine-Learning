{
 "cells": [
  {
   "cell_type": "markdown",
   "id": "130e3b13-aa6f-48f1-ae85-3b18b82833a7",
   "metadata": {},
   "source": [
    "# Feature Scaling and Its Impact on k-NN Accuracy\n",
    "\n",
    "In this notebook, we explore the effect of different feature scaling techniques on the performance of a k-Nearest Neighbors (k-NN) classifier using the **Breast Cancer** dataset from scikit-learn.\n",
    "\n",
    "###  Objectives:\n",
    "- Understand the role of feature scaling in machine learning\n",
    "- Compare the impact of:\n",
    "  - No scaling\n",
    "  - StandardScaler\n",
    "  - MinMaxScaler\n",
    "  - RobustScaler\n",
    "- Visualize how scaling affects k-NN classifier accuracy\n"
   ]
  },
  {
   "cell_type": "markdown",
   "id": "66ed4131-9479-4239-9c3f-e22d831604d1",
   "metadata": {},
   "source": [
    "##  Step 1: Import Required Libraries\n",
    "\n",
    "We begin by importing essential libraries for data processing, machine learning, and visualization.\n"
   ]
  },
  {
   "cell_type": "code",
   "execution_count": 10,
   "id": "54dd3d5b-cb5a-476d-b2e1-2c591e72b293",
   "metadata": {},
   "outputs": [],
   "source": [
    "\n",
    "# Import libraries\n",
    "import numpy as np\n",
    "import pandas as pd\n",
    "import matplotlib.pyplot as plt\n",
    "import seaborn as sns\n",
    "\n",
    "from sklearn.datasets import load_breast_cancer\n",
    "from sklearn.model_selection import train_test_split\n",
    "from sklearn.neighbors import KNeighborsClassifier\n",
    "from sklearn.preprocessing import StandardScaler, MinMaxScaler, RobustScaler\n",
    "from sklearn.metrics import accuracy_score\n"
   ]
  },
  {
   "cell_type": "markdown",
   "id": "048b1b9e-c905-4397-8ec5-e9d63354be49",
   "metadata": {},
   "source": [
    "## Step 2: Load and Explore the Breast Cancer Dataset\n",
    "\n",
    "We load the Breast Cancer dataset, which includes numeric features such as radius, texture, area, etc. These features are on different scales, which makes it a great dataset for scaling experiments.\n"
   ]
  },
  {
   "cell_type": "code",
   "execution_count": 8,
   "id": "72ca0a9f-89ea-49f9-bf7c-1210c60cbfb1",
   "metadata": {},
   "outputs": [],
   "source": [
    "# Load dataset\n",
    "data = load_breast_cancer()\n",
    "X = pd.DataFrame(data.data, columns=data.feature_names)\n",
    "y = data.target\n"
   ]
  },
  {
   "cell_type": "markdown",
   "id": "406af894-540e-4fbf-a0a8-4ce88e8d039d",
   "metadata": {},
   "source": [
    "##  Step 3: Train-Test Split\n",
    "\n",
    "We divide the dataset into a training set and a test set using a 70/30 split.  \n",
    "Stratification ensures class distribution remains consistent across both sets.\n"
   ]
  },
  {
   "cell_type": "code",
   "execution_count": 16,
   "id": "762943eb-021b-452a-b41a-26fc09c830c7",
   "metadata": {},
   "outputs": [],
   "source": [
    "# Train-test split\n",
    "X_train_orig, X_test_orig, y_train, y_test = train_test_split(\n",
    "    X, y, test_size=0.3, stratify=y, random_state=42\n",
    ")"
   ]
  },
  {
   "cell_type": "markdown",
   "id": "ae450158-c105-4355-92e6-8ff29ff89997",
   "metadata": {},
   "source": [
    "##  Step 4: Define Feature Scaling Methods\n",
    "\n",
    "We use three popular scaling techniques:\n",
    "- **StandardScaler**: Standardizes features by removing the mean and scaling to unit variance.\n",
    "- **MinMaxScaler**: Scales features to a specified range, usually [0, 1].\n",
    "- **RobustScaler**: Scales features using statistics that are robust to outliers (median and IQR).\n"
   ]
  },
  {
   "cell_type": "code",
   "execution_count": 19,
   "id": "553f5cc4-eb5f-404e-b23c-521f06267789",
   "metadata": {},
   "outputs": [],
   "source": [
    "# Define scalers\n",
    "scaler_std = StandardScaler()\n",
    "scaler_mm = MinMaxScaler()\n",
    "scaler_rb = RobustScaler()\n",
    "\n",
    "# Function to evaluate model accuracy\n",
    "def evaluate_knn(X_train, X_test, name):\n",
    "    model = KNeighborsClassifier(n_neighbors=5)\n",
    "    model.fit(X_train, y_train)\n",
    "    y_pred = model.predict(X_test)\n",
    "    acc = accuracy_score(y_test, y_pred)\n",
    "    print(f\"{name} Accuracy: {acc:.4f}\")\n",
    "    return acc\n"
   ]
  },
  {
   "cell_type": "markdown",
   "id": "b6bd2c70-e0a2-4bdc-a311-6c02fe85f1fe",
   "metadata": {},
   "source": [
    "## Step 5: Evaluate k-NN Classifier with Each Scaling Method\n",
    "\n",
    "We define a helper function to train and test a k-NN classifier (`k=5`) for each version of the dataset:\n",
    "- Unscaled\n",
    "- Standard Scaled\n",
    "- Min-Max Scaled\n",
    "- Robust Scaled\n",
    "\n",
    "We compute and print the test accuracy for each.\n"
   ]
  },
  {
   "cell_type": "code",
   "execution_count": 22,
   "id": "fe510e69-e44f-4398-a349-7f42be4de103",
   "metadata": {},
   "outputs": [
    {
     "name": "stdout",
     "output_type": "stream",
     "text": [
      "Unscaled Accuracy: 0.9240\n",
      "StandardScaler Accuracy: 0.9591\n",
      "MinMaxScaler Accuracy: 0.9708\n",
      "RobustScaler Accuracy: 0.9532\n"
     ]
    }
   ],
   "source": [
    "# Evaluate with and without scaling\n",
    "acc_unscaled = evaluate_knn(X_train_orig, X_test_orig, \"Unscaled\")\n",
    "acc_std = evaluate_knn(scaler_std.fit_transform(X_train_orig), scaler_std.transform(X_test_orig), \"StandardScaler\")\n",
    "acc_mm = evaluate_knn(scaler_mm.fit_transform(X_train_orig), scaler_mm.transform(X_test_orig), \"MinMaxScaler\")\n",
    "acc_rb = evaluate_knn(scaler_rb.fit_transform(X_train_orig), scaler_rb.transform(X_test_orig), \"RobustScaler\")\n"
   ]
  },
  {
   "cell_type": "markdown",
   "id": "cf071fce-7771-47e9-a427-89fd40eccb5e",
   "metadata": {},
   "source": [
    "## Step 6: Visualize Accuracy Results\n",
    "\n",
    "We summarize the results with a bar plot to show the comparative accuracy of k-NN using different feature scaling methods.\n",
    "This helps us understand which scaler leads to better model performance.\n"
   ]
  },
  {
   "cell_type": "code",
   "execution_count": 27,
   "id": "c467c6e4-70ec-45fb-8ffa-a47370aa6961",
   "metadata": {},
   "outputs": [
    {
     "data": {
      "image/png": "[encoded data removed]",
      "text/plain": [
       "<Figure size 800x500 with 1 Axes>"
      ]
     },
     "metadata": {},
     "output_type": "display_data"
    }
   ],
   "source": [
    "import warnings\n",
    "warnings.filterwarnings(\"ignore\", category=FutureWarning)\n",
    "\n",
    "# Plotting results\n",
    "scaling_methods = [\"Unscaled\", \"StandardScaler\", \"MinMaxScaler\", \"RobustScaler\"]\n",
    "accuracies = [acc_unscaled, acc_std, acc_mm, acc_rb]\n",
    "\n",
    "plt.figure(figsize=(8, 5))\n",
    "sns.barplot(x=scaling_methods, y=accuracies, palette=\"Blues_d\")\n",
    "plt.ylim(0.5, 1.0)\n",
    "plt.title(\"k-NN Accuracy Across Different Feature Scaling Methods\")\n",
    "plt.ylabel(\"Accuracy\")\n",
    "plt.xlabel(\"Scaling Method\")\n",
    "plt.tight_layout()\n",
    "plt.show()\n"
   ]
  },
  {
   "cell_type": "code",
   "execution_count": null,
   "id": "ae06c55d-ac09-4edf-9d97-065657433672",
   "metadata": {},
   "outputs": [],
   "source": []
  }
 ],
 "metadata": {
  "kernelspec": {
   "display_name": "Python 3 (ipykernel)",
   "language": "python",
   "name": "python3"
  },
  "language_info": {
   "codemirror_mode": {
    "name": "ipython",
    "version": 3
   },
   "file_extension": ".py",
   "mimetype": "text/x-python",
   "name": "python",
   "nbconvert_exporter": "python",
   "pygments_lexer": "ipython3",
   "version": "3.12.7"
  }
 },
 "nbformat": 4,
 "nbformat_minor": 5
}
